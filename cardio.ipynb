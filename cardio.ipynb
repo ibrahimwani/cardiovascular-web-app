{
 "cells": [
  {
   "cell_type": "code",
   "execution_count": 34,
   "id": "8625c6e3",
   "metadata": {},
   "outputs": [],
   "source": [
    "import numpy as np\n",
    "import pandas as pd\n",
    "from sklearn.model_selection import train_test_split\n",
    "from sklearn.ensemble import RandomForestClassifier, GradientBoostingClassifier, ExtraTreesClassifier\n",
    "from sklearn.tree import DecisionTreeClassifier\n",
    "from xgboost import XGBClassifier\n",
    "from sklearn.metrics import accuracy_score, f1_score, precision_score, recall_score\n",
    "\n",
    "import pickle"
   ]
  },
  {
   "cell_type": "code",
   "execution_count": 9,
   "id": "c76830ca",
   "metadata": {},
   "outputs": [],
   "source": [
    "# Load dataset\n",
    "cardio_data = pd.read_csv('cardio_cleaned.csv')\n",
    "\n"
   ]
  },
  {
   "cell_type": "code",
   "execution_count": 10,
   "id": "e754c117",
   "metadata": {},
   "outputs": [
    {
     "data": {
      "text/html": [
       "<div>\n",
       "<style scoped>\n",
       "    .dataframe tbody tr th:only-of-type {\n",
       "        vertical-align: middle;\n",
       "    }\n",
       "\n",
       "    .dataframe tbody tr th {\n",
       "        vertical-align: top;\n",
       "    }\n",
       "\n",
       "    .dataframe thead th {\n",
       "        text-align: right;\n",
       "    }\n",
       "</style>\n",
       "<table border=\"1\" class=\"dataframe\">\n",
       "  <thead>\n",
       "    <tr style=\"text-align: right;\">\n",
       "      <th></th>\n",
       "      <th>age</th>\n",
       "      <th>gender</th>\n",
       "      <th>height</th>\n",
       "      <th>weight</th>\n",
       "      <th>ap_hi</th>\n",
       "      <th>ap_lo</th>\n",
       "      <th>cholesterol</th>\n",
       "      <th>gluc</th>\n",
       "      <th>smoke</th>\n",
       "      <th>alco</th>\n",
       "      <th>active</th>\n",
       "      <th>cardio</th>\n",
       "    </tr>\n",
       "  </thead>\n",
       "  <tbody>\n",
       "    <tr>\n",
       "      <th>0</th>\n",
       "      <td>63</td>\n",
       "      <td>1</td>\n",
       "      <td>152</td>\n",
       "      <td>63</td>\n",
       "      <td>130</td>\n",
       "      <td>113</td>\n",
       "      <td>2</td>\n",
       "      <td>1</td>\n",
       "      <td>0</td>\n",
       "      <td>0</td>\n",
       "      <td>1</td>\n",
       "      <td>0</td>\n",
       "    </tr>\n",
       "    <tr>\n",
       "      <th>1</th>\n",
       "      <td>41</td>\n",
       "      <td>2</td>\n",
       "      <td>171</td>\n",
       "      <td>64</td>\n",
       "      <td>112</td>\n",
       "      <td>66</td>\n",
       "      <td>1</td>\n",
       "      <td>1</td>\n",
       "      <td>0</td>\n",
       "      <td>0</td>\n",
       "      <td>0</td>\n",
       "      <td>0</td>\n",
       "    </tr>\n",
       "    <tr>\n",
       "      <th>2</th>\n",
       "      <td>49</td>\n",
       "      <td>1</td>\n",
       "      <td>146</td>\n",
       "      <td>77</td>\n",
       "      <td>176</td>\n",
       "      <td>67</td>\n",
       "      <td>1</td>\n",
       "      <td>1</td>\n",
       "      <td>0</td>\n",
       "      <td>0</td>\n",
       "      <td>1</td>\n",
       "      <td>0</td>\n",
       "    </tr>\n",
       "    <tr>\n",
       "      <th>3</th>\n",
       "      <td>34</td>\n",
       "      <td>2</td>\n",
       "      <td>150</td>\n",
       "      <td>59</td>\n",
       "      <td>118</td>\n",
       "      <td>102</td>\n",
       "      <td>1</td>\n",
       "      <td>2</td>\n",
       "      <td>0</td>\n",
       "      <td>1</td>\n",
       "      <td>1</td>\n",
       "      <td>0</td>\n",
       "    </tr>\n",
       "    <tr>\n",
       "      <th>4</th>\n",
       "      <td>32</td>\n",
       "      <td>1</td>\n",
       "      <td>168</td>\n",
       "      <td>77</td>\n",
       "      <td>112</td>\n",
       "      <td>73</td>\n",
       "      <td>3</td>\n",
       "      <td>1</td>\n",
       "      <td>0</td>\n",
       "      <td>0</td>\n",
       "      <td>1</td>\n",
       "      <td>0</td>\n",
       "    </tr>\n",
       "  </tbody>\n",
       "</table>\n",
       "</div>"
      ],
      "text/plain": [
       "   age  gender  height  weight  ap_hi  ap_lo  cholesterol  gluc  smoke  alco  \\\n",
       "0   63       1     152      63    130    113            2     1      0     0   \n",
       "1   41       2     171      64    112     66            1     1      0     0   \n",
       "2   49       1     146      77    176     67            1     1      0     0   \n",
       "3   34       2     150      59    118    102            1     2      0     1   \n",
       "4   32       1     168      77    112     73            3     1      0     0   \n",
       "\n",
       "   active  cardio  \n",
       "0       1       0  \n",
       "1       0       0  \n",
       "2       1       0  \n",
       "3       1       0  \n",
       "4       1       0  "
      ]
     },
     "execution_count": 10,
     "metadata": {},
     "output_type": "execute_result"
    }
   ],
   "source": [
    "cardio_data.head()"
   ]
  },
  {
   "cell_type": "code",
   "execution_count": 11,
   "id": "3ad7eb58",
   "metadata": {},
   "outputs": [
    {
     "data": {
      "text/plain": [
       "(12946, 12)"
      ]
     },
     "execution_count": 11,
     "metadata": {},
     "output_type": "execute_result"
    }
   ],
   "source": [
    "cardio_data.shape"
   ]
  },
  {
   "cell_type": "code",
   "execution_count": 12,
   "id": "112842f3",
   "metadata": {},
   "outputs": [
    {
     "name": "stdout",
     "output_type": "stream",
     "text": [
      "<class 'pandas.core.frame.DataFrame'>\n",
      "RangeIndex: 12946 entries, 0 to 12945\n",
      "Data columns (total 12 columns):\n",
      " #   Column       Non-Null Count  Dtype\n",
      "---  ------       --------------  -----\n",
      " 0   age          12946 non-null  int64\n",
      " 1   gender       12946 non-null  int64\n",
      " 2   height       12946 non-null  int64\n",
      " 3   weight       12946 non-null  int64\n",
      " 4   ap_hi        12946 non-null  int64\n",
      " 5   ap_lo        12946 non-null  int64\n",
      " 6   cholesterol  12946 non-null  int64\n",
      " 7   gluc         12946 non-null  int64\n",
      " 8   smoke        12946 non-null  int64\n",
      " 9   alco         12946 non-null  int64\n",
      " 10  active       12946 non-null  int64\n",
      " 11  cardio       12946 non-null  int64\n",
      "dtypes: int64(12)\n",
      "memory usage: 1.2 MB\n"
     ]
    }
   ],
   "source": [
    "cardio_data.info()"
   ]
  },
  {
   "cell_type": "code",
   "execution_count": 13,
   "id": "9d279f35",
   "metadata": {},
   "outputs": [
    {
     "data": {
      "text/plain": [
       "age            0\n",
       "gender         0\n",
       "height         0\n",
       "weight         0\n",
       "ap_hi          0\n",
       "ap_lo          0\n",
       "cholesterol    0\n",
       "gluc           0\n",
       "smoke          0\n",
       "alco           0\n",
       "active         0\n",
       "cardio         0\n",
       "dtype: int64"
      ]
     },
     "execution_count": 13,
     "metadata": {},
     "output_type": "execute_result"
    }
   ],
   "source": [
    "cardio_data.isnull().sum()"
   ]
  },
  {
   "cell_type": "code",
   "execution_count": 14,
   "id": "f25d5418",
   "metadata": {},
   "outputs": [
    {
     "data": {
      "text/html": [
       "<div>\n",
       "<style scoped>\n",
       "    .dataframe tbody tr th:only-of-type {\n",
       "        vertical-align: middle;\n",
       "    }\n",
       "\n",
       "    .dataframe tbody tr th {\n",
       "        vertical-align: top;\n",
       "    }\n",
       "\n",
       "    .dataframe thead th {\n",
       "        text-align: right;\n",
       "    }\n",
       "</style>\n",
       "<table border=\"1\" class=\"dataframe\">\n",
       "  <thead>\n",
       "    <tr style=\"text-align: right;\">\n",
       "      <th></th>\n",
       "      <th>age</th>\n",
       "      <th>gender</th>\n",
       "      <th>height</th>\n",
       "      <th>weight</th>\n",
       "      <th>ap_hi</th>\n",
       "      <th>ap_lo</th>\n",
       "      <th>cholesterol</th>\n",
       "      <th>gluc</th>\n",
       "      <th>smoke</th>\n",
       "      <th>alco</th>\n",
       "      <th>active</th>\n",
       "      <th>cardio</th>\n",
       "    </tr>\n",
       "  </thead>\n",
       "  <tbody>\n",
       "    <tr>\n",
       "      <th>count</th>\n",
       "      <td>12946.000000</td>\n",
       "      <td>12946.000000</td>\n",
       "      <td>12946.000000</td>\n",
       "      <td>12946.000000</td>\n",
       "      <td>12946.000000</td>\n",
       "      <td>12946.000000</td>\n",
       "      <td>12946.000000</td>\n",
       "      <td>12946.000000</td>\n",
       "      <td>12946.000000</td>\n",
       "      <td>12946.000000</td>\n",
       "      <td>12946.000000</td>\n",
       "      <td>12946.000000</td>\n",
       "    </tr>\n",
       "    <tr>\n",
       "      <th>mean</th>\n",
       "      <td>47.061563</td>\n",
       "      <td>1.492430</td>\n",
       "      <td>164.556156</td>\n",
       "      <td>69.522710</td>\n",
       "      <td>134.362506</td>\n",
       "      <td>89.687780</td>\n",
       "      <td>1.491967</td>\n",
       "      <td>1.403677</td>\n",
       "      <td>0.199367</td>\n",
       "      <td>0.150626</td>\n",
       "      <td>0.701916</td>\n",
       "      <td>0.234744</td>\n",
       "    </tr>\n",
       "    <tr>\n",
       "      <th>std</th>\n",
       "      <td>10.119235</td>\n",
       "      <td>0.499962</td>\n",
       "      <td>9.941084</td>\n",
       "      <td>14.639591</td>\n",
       "      <td>25.811938</td>\n",
       "      <td>17.325266</td>\n",
       "      <td>0.666802</td>\n",
       "      <td>0.666148</td>\n",
       "      <td>0.399540</td>\n",
       "      <td>0.357697</td>\n",
       "      <td>0.457434</td>\n",
       "      <td>0.423855</td>\n",
       "    </tr>\n",
       "    <tr>\n",
       "      <th>min</th>\n",
       "      <td>30.000000</td>\n",
       "      <td>1.000000</td>\n",
       "      <td>130.000000</td>\n",
       "      <td>30.000000</td>\n",
       "      <td>90.000000</td>\n",
       "      <td>60.000000</td>\n",
       "      <td>1.000000</td>\n",
       "      <td>1.000000</td>\n",
       "      <td>0.000000</td>\n",
       "      <td>0.000000</td>\n",
       "      <td>0.000000</td>\n",
       "      <td>0.000000</td>\n",
       "    </tr>\n",
       "    <tr>\n",
       "      <th>25%</th>\n",
       "      <td>38.000000</td>\n",
       "      <td>1.000000</td>\n",
       "      <td>158.000000</td>\n",
       "      <td>59.000000</td>\n",
       "      <td>112.000000</td>\n",
       "      <td>75.000000</td>\n",
       "      <td>1.000000</td>\n",
       "      <td>1.000000</td>\n",
       "      <td>0.000000</td>\n",
       "      <td>0.000000</td>\n",
       "      <td>0.000000</td>\n",
       "      <td>0.000000</td>\n",
       "    </tr>\n",
       "    <tr>\n",
       "      <th>50%</th>\n",
       "      <td>47.000000</td>\n",
       "      <td>1.000000</td>\n",
       "      <td>165.000000</td>\n",
       "      <td>69.000000</td>\n",
       "      <td>134.000000</td>\n",
       "      <td>90.000000</td>\n",
       "      <td>1.000000</td>\n",
       "      <td>1.000000</td>\n",
       "      <td>0.000000</td>\n",
       "      <td>0.000000</td>\n",
       "      <td>1.000000</td>\n",
       "      <td>0.000000</td>\n",
       "    </tr>\n",
       "    <tr>\n",
       "      <th>75%</th>\n",
       "      <td>56.000000</td>\n",
       "      <td>2.000000</td>\n",
       "      <td>171.000000</td>\n",
       "      <td>79.000000</td>\n",
       "      <td>157.000000</td>\n",
       "      <td>105.000000</td>\n",
       "      <td>2.000000</td>\n",
       "      <td>2.000000</td>\n",
       "      <td>0.000000</td>\n",
       "      <td>0.000000</td>\n",
       "      <td>1.000000</td>\n",
       "      <td>0.000000</td>\n",
       "    </tr>\n",
       "    <tr>\n",
       "      <th>max</th>\n",
       "      <td>64.000000</td>\n",
       "      <td>2.000000</td>\n",
       "      <td>201.000000</td>\n",
       "      <td>132.000000</td>\n",
       "      <td>179.000000</td>\n",
       "      <td>119.000000</td>\n",
       "      <td>3.000000</td>\n",
       "      <td>3.000000</td>\n",
       "      <td>1.000000</td>\n",
       "      <td>1.000000</td>\n",
       "      <td>1.000000</td>\n",
       "      <td>1.000000</td>\n",
       "    </tr>\n",
       "  </tbody>\n",
       "</table>\n",
       "</div>"
      ],
      "text/plain": [
       "                age        gender        height        weight         ap_hi  \\\n",
       "count  12946.000000  12946.000000  12946.000000  12946.000000  12946.000000   \n",
       "mean      47.061563      1.492430    164.556156     69.522710    134.362506   \n",
       "std       10.119235      0.499962      9.941084     14.639591     25.811938   \n",
       "min       30.000000      1.000000    130.000000     30.000000     90.000000   \n",
       "25%       38.000000      1.000000    158.000000     59.000000    112.000000   \n",
       "50%       47.000000      1.000000    165.000000     69.000000    134.000000   \n",
       "75%       56.000000      2.000000    171.000000     79.000000    157.000000   \n",
       "max       64.000000      2.000000    201.000000    132.000000    179.000000   \n",
       "\n",
       "              ap_lo   cholesterol          gluc         smoke          alco  \\\n",
       "count  12946.000000  12946.000000  12946.000000  12946.000000  12946.000000   \n",
       "mean      89.687780      1.491967      1.403677      0.199367      0.150626   \n",
       "std       17.325266      0.666802      0.666148      0.399540      0.357697   \n",
       "min       60.000000      1.000000      1.000000      0.000000      0.000000   \n",
       "25%       75.000000      1.000000      1.000000      0.000000      0.000000   \n",
       "50%       90.000000      1.000000      1.000000      0.000000      0.000000   \n",
       "75%      105.000000      2.000000      2.000000      0.000000      0.000000   \n",
       "max      119.000000      3.000000      3.000000      1.000000      1.000000   \n",
       "\n",
       "             active        cardio  \n",
       "count  12946.000000  12946.000000  \n",
       "mean       0.701916      0.234744  \n",
       "std        0.457434      0.423855  \n",
       "min        0.000000      0.000000  \n",
       "25%        0.000000      0.000000  \n",
       "50%        1.000000      0.000000  \n",
       "75%        1.000000      0.000000  \n",
       "max        1.000000      1.000000  "
      ]
     },
     "execution_count": 14,
     "metadata": {},
     "output_type": "execute_result"
    }
   ],
   "source": [
    "cardio_data.describe()"
   ]
  },
  {
   "cell_type": "code",
   "execution_count": 16,
   "id": "09e12d9a",
   "metadata": {},
   "outputs": [
    {
     "data": {
      "text/plain": [
       "cardio\n",
       "0    9907\n",
       "1    3039\n",
       "Name: count, dtype: int64"
      ]
     },
     "execution_count": 16,
     "metadata": {},
     "output_type": "execute_result"
    }
   ],
   "source": [
    "cardio_data['cardio'].value_counts()"
   ]
  },
  {
   "cell_type": "code",
   "execution_count": 18,
   "id": "9683a19e",
   "metadata": {},
   "outputs": [],
   "source": [
    "X = cardio_data.drop(columns='cardio', axis=1)\n",
    "Y = cardio_data['cardio']"
   ]
  },
  {
   "cell_type": "code",
   "execution_count": 19,
   "id": "9fecfe2a",
   "metadata": {},
   "outputs": [
    {
     "name": "stdout",
     "output_type": "stream",
     "text": [
      "       age  gender  height  weight  ap_hi  ap_lo  cholesterol  gluc  smoke  \\\n",
      "0       63       1     152      63    130    113            2     1      0   \n",
      "1       41       2     171      64    112     66            1     1      0   \n",
      "2       49       1     146      77    176     67            1     1      0   \n",
      "3       34       2     150      59    118    102            1     2      0   \n",
      "4       32       1     168      77    112     73            3     1      0   \n",
      "...    ...     ...     ...     ...    ...    ...          ...   ...    ...   \n",
      "12941   39       1     177      74    155     80            1     3      0   \n",
      "12942   61       2     168      71    120    100            1     1      1   \n",
      "12943   32       2     148      49    133     68            1     1      0   \n",
      "12944   46       1     166      58    117     71            1     1      0   \n",
      "12945   59       1     166     104    114     64            2     1      0   \n",
      "\n",
      "       alco  active  \n",
      "0         0       1  \n",
      "1         0       0  \n",
      "2         0       1  \n",
      "3         1       1  \n",
      "4         0       1  \n",
      "...     ...     ...  \n",
      "12941     0       1  \n",
      "12942     0       1  \n",
      "12943     0       0  \n",
      "12944     0       1  \n",
      "12945     0       1  \n",
      "\n",
      "[12946 rows x 11 columns]\n"
     ]
    }
   ],
   "source": [
    "print(X)"
   ]
  },
  {
   "cell_type": "code",
   "execution_count": 20,
   "id": "eb16aad2",
   "metadata": {},
   "outputs": [
    {
     "name": "stdout",
     "output_type": "stream",
     "text": [
      "0        0\n",
      "1        0\n",
      "2        0\n",
      "3        0\n",
      "4        0\n",
      "        ..\n",
      "12941    0\n",
      "12942    0\n",
      "12943    0\n",
      "12944    0\n",
      "12945    0\n",
      "Name: cardio, Length: 12946, dtype: int64\n"
     ]
    }
   ],
   "source": [
    "print(Y)"
   ]
  },
  {
   "cell_type": "code",
   "execution_count": 21,
   "id": "18fae56b",
   "metadata": {},
   "outputs": [],
   "source": [
    "X_train, X_test, Y_train, Y_test = train_test_split(X, Y, test_size=0.2, stratify=Y, random_state=2)\n"
   ]
  },
  {
   "cell_type": "code",
   "execution_count": 22,
   "id": "c203414f",
   "metadata": {},
   "outputs": [],
   "source": [
    "models = {\n",
    "    \"RandomForest\": RandomForestClassifier(),\n",
    "    \"GradientBoosting\": GradientBoostingClassifier(),\n",
    "    \"ExtraTrees\": ExtraTreesClassifier(),\n",
    "    \"DecisionTree\": DecisionTreeClassifier(),\n",
    "    \"XGBoost\": XGBClassifier(use_label_encoder=False, eval_metric='logloss')\n",
    "}"
   ]
  },
  {
   "cell_type": "code",
   "execution_count": 23,
   "id": "bc945c34",
   "metadata": {},
   "outputs": [
    {
     "name": "stderr",
     "output_type": "stream",
     "text": [
      "c:\\Users\\ibrah\\AppData\\Local\\Programs\\Python\\Python312\\Lib\\site-packages\\xgboost\\core.py:158: UserWarning: [19:07:14] WARNING: C:\\buildkite-agent\\builds\\buildkite-windows-cpu-autoscaling-group-i-08cbc0333d8d4aae1-1\\xgboost\\xgboost-ci-windows\\src\\learner.cc:740: \n",
      "Parameters: { \"use_label_encoder\" } are not used.\n",
      "\n",
      "  warnings.warn(smsg, UserWarning)\n"
     ]
    }
   ],
   "source": [
    "# Train all models\n",
    "for name, model in models.items():\n",
    "    model.fit(X_train, Y_train)\n"
   ]
  },
  {
   "cell_type": "code",
   "execution_count": 26,
   "id": "b1bf5668",
   "metadata": {},
   "outputs": [
    {
     "name": "stdout",
     "output_type": "stream",
     "text": [
      "\n",
      "--- Model Performance on Test Data ---\n",
      "\n",
      "RandomForest\n",
      "Accuracy : 1.0\n",
      "F1 Score : 1.0\n",
      "Precision: 1.0\n",
      "Recall   : 1.0\n",
      "\n",
      "GradientBoosting\n",
      "Accuracy : 0.9809772112784859\n",
      "F1 Score : 0.9579867775645127\n",
      "Precision: 0.9946855624446412\n",
      "Recall   : 0.9238996297819827\n",
      "\n",
      "ExtraTrees\n",
      "Accuracy : 1.0\n",
      "F1 Score : 1.0\n",
      "Precision: 1.0\n",
      "Recall   : 1.0\n",
      "\n",
      "DecisionTree\n",
      "Accuracy : 1.0\n",
      "F1 Score : 1.0\n",
      "Precision: 1.0\n",
      "Recall   : 1.0\n",
      "\n",
      "XGBoost\n",
      "Accuracy : 1.0\n",
      "F1 Score : 1.0\n",
      "Precision: 1.0\n",
      "Recall   : 1.0\n"
     ]
    }
   ],
   "source": [
    "print(\"\\n--- Model Performance on Test Data ---\")\n",
    "for name, model in models.items():\n",
    "    preds = model.predict(X_train)\n",
    "    print(f\"\\n{name}\")\n",
    "    print(\"Accuracy :\", accuracy_score(Y_train, preds))\n",
    "    print(\"F1 Score :\", f1_score(Y_train, preds))\n",
    "    print(\"Precision:\", precision_score(Y_train, preds))\n",
    "    print(\"Recall   :\", recall_score(Y_train, preds))\n"
   ]
  },
  {
   "cell_type": "code",
   "execution_count": 27,
   "id": "69f06a20",
   "metadata": {},
   "outputs": [
    {
     "name": "stdout",
     "output_type": "stream",
     "text": [
      "\n",
      "RandomForest\n",
      "Test Accuracy : 0.9756756756756757\n",
      "F1 Score      : 0.9466553767993227\n",
      "Precision     : 0.9755671902268761\n",
      "Recall        : 0.9194078947368421\n",
      "\n",
      "GradientBoosting\n",
      "Test Accuracy : 0.9694980694980695\n",
      "F1 Score      : 0.9316017316017317\n",
      "Precision     : 0.9835466179159049\n",
      "Recall        : 0.8848684210526315\n",
      "\n",
      "ExtraTrees\n",
      "Test Accuracy : 0.9563706563706563\n",
      "F1 Score      : 0.9021645021645022\n",
      "Precision     : 0.9524680073126143\n",
      "Recall        : 0.8569078947368421\n",
      "\n",
      "DecisionTree\n",
      "Test Accuracy : 0.9814671814671815\n",
      "F1 Score      : 0.9605263157894737\n",
      "Precision     : 0.9605263157894737\n",
      "Recall        : 0.9605263157894737\n",
      "\n",
      "XGBoost\n",
      "Test Accuracy : 0.9922779922779923\n",
      "F1 Score      : 0.9835255354200988\n",
      "Precision     : 0.9851485148514851\n",
      "Recall        : 0.9819078947368421\n"
     ]
    }
   ],
   "source": [
    "for name, model in models.items():\n",
    "    preds = model.predict(X_test)\n",
    "    print(f\"\\n{name}\")\n",
    "    print(\"Test Accuracy :\", accuracy_score(Y_test, preds))\n",
    "    print(\"F1 Score      :\", f1_score(Y_test, preds))\n",
    "    print(\"Precision     :\", precision_score(Y_test, preds))\n",
    "    print(\"Recall        :\", recall_score(Y_test, preds))"
   ]
  },
  {
   "cell_type": "code",
   "execution_count": 36,
   "id": "759287f0",
   "metadata": {},
   "outputs": [],
   "source": [
    "# Save each model to a pickle file\n",
    "for name, model in models.items():\n",
    "    with open(f\"{name}_model.sav\", \"wb\") as f:\n",
    "        pickle.dump(model, f)\n"
   ]
  },
  {
   "cell_type": "markdown",
   "id": "1c2edabd",
   "metadata": {},
   "source": [
    "building the predictive system"
   ]
  },
  {
   "cell_type": "code",
   "execution_count": 28,
   "id": "76ed32aa",
   "metadata": {},
   "outputs": [
    {
     "name": "stdout",
     "output_type": "stream",
     "text": [
      "RandomForest - Probability of Disease: 0.2000\n",
      "GradientBoosting - Probability of Disease: 0.1626\n",
      "ExtraTrees - Probability of Disease: 0.5200\n",
      "DecisionTree - Probability of Disease: 0.0000\n",
      "XGBoost - Probability of Disease: 0.0024\n",
      "\n",
      "Selected Model: ExtraTrees\n",
      "Prediction     : Has cardiovascular disease\n"
     ]
    },
    {
     "name": "stderr",
     "output_type": "stream",
     "text": [
      "c:\\Users\\ibrah\\AppData\\Local\\Programs\\Python\\Python312\\Lib\\site-packages\\sklearn\\utils\\validation.py:2739: UserWarning: X does not have valid feature names, but RandomForestClassifier was fitted with feature names\n",
      "  warnings.warn(\n",
      "c:\\Users\\ibrah\\AppData\\Local\\Programs\\Python\\Python312\\Lib\\site-packages\\sklearn\\utils\\validation.py:2739: UserWarning: X does not have valid feature names, but GradientBoostingClassifier was fitted with feature names\n",
      "  warnings.warn(\n",
      "c:\\Users\\ibrah\\AppData\\Local\\Programs\\Python\\Python312\\Lib\\site-packages\\sklearn\\utils\\validation.py:2739: UserWarning: X does not have valid feature names, but ExtraTreesClassifier was fitted with feature names\n",
      "  warnings.warn(\n",
      "c:\\Users\\ibrah\\AppData\\Local\\Programs\\Python\\Python312\\Lib\\site-packages\\sklearn\\utils\\validation.py:2739: UserWarning: X does not have valid feature names, but DecisionTreeClassifier was fitted with feature names\n",
      "  warnings.warn(\n",
      "c:\\Users\\ibrah\\AppData\\Local\\Programs\\Python\\Python312\\Lib\\site-packages\\sklearn\\utils\\validation.py:2739: UserWarning: X does not have valid feature names, but ExtraTreesClassifier was fitted with feature names\n",
      "  warnings.warn(\n"
     ]
    }
   ],
   "source": [
    "input_data = (54,1,150,61,130,80,3,3,0,0,1)\n",
    "input_data_np = np.asarray(input_data).reshape(1, -1)\n",
    "\n",
    "# Store model probabilities\n",
    "probabilities = {}\n",
    "\n",
    "for name, model in models.items():\n",
    "    prob = model.predict_proba(input_data_np)[0][1]\n",
    "    probabilities[name] = prob\n",
    "    print(f\"{name} - Probability of Disease: {prob:.4f}\")\n",
    "\n",
    "# Decision logic\n",
    "chosen_model_name = \"\"\n",
    "prediction = None\n",
    "\n",
    "# CASE 1: At least one model gives prob ≥ 0.5 → choose highest probability\n",
    "high_probs = {k: v for k, v in probabilities.items() if v >= 0.5}\n",
    "if high_probs:\n",
    "    chosen_model_name = max(high_probs, key=high_probs.get)\n",
    "else:\n",
    "    # CASE 2: All models < 0.5 → choose one with the lowest probability\n",
    "    chosen_model_name = min(probabilities, key=probabilities.get)\n",
    "\n",
    "# Final prediction\n",
    "chosen_model = models[chosen_model_name]\n",
    "final_prediction = chosen_model.predict(input_data_np)[0]\n",
    "\n",
    "# Output\n",
    "print(f\"\\nSelected Model: {chosen_model_name}\")\n",
    "print(\"Prediction     :\", \"Has cardiovascular disease\" if final_prediction == 1 else \"Is healthy\")\n"
   ]
  },
  {
   "cell_type": "code",
   "execution_count": 33,
   "id": "80daed78",
   "metadata": {},
   "outputs": [
    {
     "name": "stdout",
     "output_type": "stream",
     "text": [
      "\n",
      "Selected Model     : RandomForest\n",
      "Probability         : 0.0000\n",
      "Prediction          : Is healthy\n"
     ]
    },
    {
     "name": "stderr",
     "output_type": "stream",
     "text": [
      "c:\\Users\\ibrah\\AppData\\Local\\Programs\\Python\\Python312\\Lib\\site-packages\\sklearn\\utils\\validation.py:2739: UserWarning: X does not have valid feature names, but RandomForestClassifier was fitted with feature names\n",
      "  warnings.warn(\n",
      "c:\\Users\\ibrah\\AppData\\Local\\Programs\\Python\\Python312\\Lib\\site-packages\\sklearn\\utils\\validation.py:2739: UserWarning: X does not have valid feature names, but GradientBoostingClassifier was fitted with feature names\n",
      "  warnings.warn(\n",
      "c:\\Users\\ibrah\\AppData\\Local\\Programs\\Python\\Python312\\Lib\\site-packages\\sklearn\\utils\\validation.py:2739: UserWarning: X does not have valid feature names, but ExtraTreesClassifier was fitted with feature names\n",
      "  warnings.warn(\n",
      "c:\\Users\\ibrah\\AppData\\Local\\Programs\\Python\\Python312\\Lib\\site-packages\\sklearn\\utils\\validation.py:2739: UserWarning: X does not have valid feature names, but DecisionTreeClassifier was fitted with feature names\n",
      "  warnings.warn(\n",
      "c:\\Users\\ibrah\\AppData\\Local\\Programs\\Python\\Python312\\Lib\\site-packages\\sklearn\\utils\\validation.py:2739: UserWarning: X does not have valid feature names, but RandomForestClassifier was fitted with feature names\n",
      "  warnings.warn(\n"
     ]
    }
   ],
   "source": [
    "input_data = (62,1,165,70,170,100,1,1,0,0,0)  # e.g., (52, 2, 170, 78, 145, 90, 2, 1, 0, 0, 1)\n",
    "input_data_np = np.asarray(input_data).reshape(1, -1)\n",
    "\n",
    "# Store model probabilities\n",
    "probabilities = {}\n",
    "\n",
    "for name, model in models.items():\n",
    "    prob = model.predict_proba(input_data_np)[0][1]\n",
    "    probabilities[name] = prob\n",
    "\n",
    "# Decision logic\n",
    "high_probs = {k: v for k, v in probabilities.items() if v >= 0.5}\n",
    "if high_probs:\n",
    "    chosen_model_name = max(high_probs, key=high_probs.get)\n",
    "else:\n",
    "    chosen_model_name = min(probabilities, key=probabilities.get)\n",
    "\n",
    "# Final prediction\n",
    "chosen_model = models[chosen_model_name]\n",
    "final_prediction = chosen_model.predict(input_data_np)[0]\n",
    "final_probability = probabilities[chosen_model_name]\n",
    "\n",
    "# Output\n",
    "print(f\"\\nSelected Model     : {chosen_model_name}\")\n",
    "print(f\"Probability         : {final_probability:.4f}\")\n",
    "print(\"Prediction          :\", \"Has cardiovascular disease\" if final_prediction == 1 else \"Is healthy\")\n"
   ]
  },
  {
   "cell_type": "code",
   "execution_count": 39,
   "id": "88ec63ee",
   "metadata": {},
   "outputs": [
    {
     "name": "stdout",
     "output_type": "stream",
     "text": [
      "\n",
      "Selected Model     : DecisionTree\n",
      "Probability         : 0.0000\n",
      "Prediction          : Is healthy\n"
     ]
    },
    {
     "name": "stderr",
     "output_type": "stream",
     "text": [
      "c:\\Users\\ibrah\\AppData\\Local\\Programs\\Python\\Python312\\Lib\\site-packages\\sklearn\\utils\\validation.py:2739: UserWarning: X does not have valid feature names, but RandomForestClassifier was fitted with feature names\n",
      "  warnings.warn(\n",
      "c:\\Users\\ibrah\\AppData\\Local\\Programs\\Python\\Python312\\Lib\\site-packages\\sklearn\\utils\\validation.py:2739: UserWarning: X does not have valid feature names, but GradientBoostingClassifier was fitted with feature names\n",
      "  warnings.warn(\n",
      "c:\\Users\\ibrah\\AppData\\Local\\Programs\\Python\\Python312\\Lib\\site-packages\\sklearn\\utils\\validation.py:2739: UserWarning: X does not have valid feature names, but ExtraTreesClassifier was fitted with feature names\n",
      "  warnings.warn(\n",
      "c:\\Users\\ibrah\\AppData\\Local\\Programs\\Python\\Python312\\Lib\\site-packages\\sklearn\\utils\\validation.py:2739: UserWarning: X does not have valid feature names, but DecisionTreeClassifier was fitted with feature names\n",
      "  warnings.warn(\n",
      "c:\\Users\\ibrah\\AppData\\Local\\Programs\\Python\\Python312\\Lib\\site-packages\\sklearn\\utils\\validation.py:2739: UserWarning: X does not have valid feature names, but DecisionTreeClassifier was fitted with feature names\n",
      "  warnings.warn(\n"
     ]
    }
   ],
   "source": [
    "import numpy as np\n",
    "import pickle\n",
    "\n",
    "# Load all models from pickle files\n",
    "model_names = [\"RandomForest\", \"GradientBoosting\", \"ExtraTrees\", \"DecisionTree\", \"XGBoost\"]\n",
    "models = {}\n",
    "\n",
    "for name in model_names:\n",
    "    with open(f\"{name}_model.sav\", \"rb\") as f:\n",
    "        models[name] = pickle.load(f)\n",
    "\n",
    "# Input data\n",
    "input_data = (54,1,170,68,130,80,3,3,0,0,1)\n",
    "input_data_np = np.asarray(input_data).reshape(1, -1)\n",
    "\n",
    "# Store model probabilities\n",
    "probabilities = {}\n",
    "\n",
    "for name, model in models.items():\n",
    "    prob = model.predict_proba(input_data_np)[0][1]\n",
    "    probabilities[name] = prob\n",
    "\n",
    "# Decision logic\n",
    "high_probs = {k: v for k, v in probabilities.items() if v >= 0.5}\n",
    "if high_probs:\n",
    "    chosen_model_name = max(high_probs, key=high_probs.get)\n",
    "else:\n",
    "    chosen_model_name = min(probabilities, key=probabilities.get)\n",
    "\n",
    "# Final prediction\n",
    "chosen_model = models[chosen_model_name]\n",
    "final_prediction = chosen_model.predict(input_data_np)[0]\n",
    "final_probability = probabilities[chosen_model_name]\n",
    "\n",
    "# Output\n",
    "print(f\"\\nSelected Model     : {chosen_model_name}\")\n",
    "print(f\"Probability         : {final_probability:.4f}\")\n",
    "print(\"Prediction          :\", \"Has cardiovascular disease\" if final_prediction == 1 else \"Is healthy\")\n"
   ]
  }
 ],
 "metadata": {
  "kernelspec": {
   "display_name": "Python 3",
   "language": "python",
   "name": "python3"
  },
  "language_info": {
   "codemirror_mode": {
    "name": "ipython",
    "version": 3
   },
   "file_extension": ".py",
   "mimetype": "text/x-python",
   "name": "python",
   "nbconvert_exporter": "python",
   "pygments_lexer": "ipython3",
   "version": "3.12.2"
  }
 },
 "nbformat": 4,
 "nbformat_minor": 5
}
